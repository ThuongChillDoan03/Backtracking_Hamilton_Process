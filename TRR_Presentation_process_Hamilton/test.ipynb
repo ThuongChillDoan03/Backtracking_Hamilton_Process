{
 "cells": [
  {
   "cell_type": "code",
   "execution_count": 1,
   "metadata": {},
   "outputs": [
    {
     "name": "stdout",
     "output_type": "stream",
     "text": [
      "1\n"
     ]
    }
   ],
   "source": [
    "import numpy as np\n",
    "from numba import njit,jit_module\n",
    "import time\n",
    "\n",
    "def check_1():\n",
    "    n = int(input(\"Nhập số đỉnh của n:\"))\n",
    "    return n\n",
    "print(check_1())"
   ]
  },
  {
   "cell_type": "code",
   "execution_count": 11,
   "metadata": {},
   "outputs": [
    {
     "name": "stdout",
     "output_type": "stream",
     "text": [
      "[array([1, 2, 3])]\n"
     ]
    }
   ],
   "source": [
    "a = np.array([1,2,3])\n",
    "b = []\n",
    "b.append(a)\n",
    "print(b)"
   ]
  },
  {
   "cell_type": "code",
   "execution_count": 4,
   "metadata": {},
   "outputs": [
    {
     "name": "stdout",
     "output_type": "stream",
     "text": [
      "3\n"
     ]
    }
   ],
   "source": [
    "a = np.array([1,2,5,0,0,1])\n",
    "print(np.argmin(a))"
   ]
  },
  {
   "cell_type": "code",
   "execution_count": 26,
   "metadata": {},
   "outputs": [
    {
     "data": {
      "text/plain": [
       "'hello world'"
      ]
     },
     "execution_count": 26,
     "metadata": {},
     "output_type": "execute_result"
    }
   ],
   "source": [
    "def f():\n",
    "    return 'hello world'\n",
    "f()"
   ]
  },
  {
   "cell_type": "code",
   "execution_count": 10,
   "metadata": {},
   "outputs": [
    {
     "name": "stdout",
     "output_type": "stream",
     "text": [
      "Chuẩn\n"
     ]
    }
   ],
   "source": [
    "a = np.array([1,2,5,0,0,1])\n",
    "b = 2\n",
    "if (b in a)==True:\n",
    "    print(\"Chuẩn\")"
   ]
  },
  {
   "cell_type": "code",
   "execution_count": 12,
   "metadata": {},
   "outputs": [
    {
     "name": "stdout",
     "output_type": "stream",
     "text": [
      "[0 0 0 0]\n"
     ]
    }
   ],
   "source": [
    "import numpy as np\n",
    "import math\n",
    "\n",
    "n = int(input(\"Nhập số đỉnh của đồ thị:\"))\n",
    "def arr_check(n):\n",
    "    return np.full(n,0)\n",
    "print(arr_check(n))"
   ]
  },
  {
   "cell_type": "code",
   "execution_count": 17,
   "metadata": {},
   "outputs": [
    {
     "name": "stdout",
     "output_type": "stream",
     "text": [
      "The factorial of 3 is 6\n"
     ]
    }
   ],
   "source": [
    "def factorial(x):\n",
    "    \"\"\"This is a recursive function\n",
    "    to find the factorial of an integer\"\"\"\n",
    "\n",
    "    if x == 1:\n",
    "        return 1\n",
    "    else:\n",
    "        return (x * factorial(x-1))\n",
    "\n",
    "\n",
    "num = 3\n",
    "print(\"The factorial of\", num, \"is\", factorial(num))"
   ]
  },
  {
   "cell_type": "code",
   "execution_count": 24,
   "metadata": {},
   "outputs": [
    {
     "name": "stdout",
     "output_type": "stream",
     "text": [
      "Chu trình Hamilton:  1 => 2 => 3 => 1\n"
     ]
    }
   ],
   "source": [
    "arr_position_counter = [1,2,3,1]\n",
    "def print_Hamilton(arr_position_counter):\n",
    "    print(\"Chu trình Hamilton: \", end=' ')\n",
    "    for i_ in range(len(arr_position_counter)):\n",
    "        if i_ < len(arr_position_counter) - 1:\n",
    "            print(arr_position_counter[i_],end=' => ')\n",
    "        if i_ >= len(arr_position_counter) - 1:\n",
    "            print(arr_position_counter[i_])\n",
    "print_Hamilton(arr_position_counter)\n"
   ]
  }
 ],
 "metadata": {
  "kernelspec": {
   "display_name": "Python 3",
   "language": "python",
   "name": "python3"
  },
  "language_info": {
   "codemirror_mode": {
    "name": "ipython",
    "version": 3
   },
   "file_extension": ".py",
   "mimetype": "text/x-python",
   "name": "python",
   "nbconvert_exporter": "python",
   "pygments_lexer": "ipython3",
   "version": "3.10.6"
  },
  "orig_nbformat": 4,
  "vscode": {
   "interpreter": {
    "hash": "d3e10ef16274dd72e574b8fa73b58450b957d8421a2901baded3cca26fcf5dda"
   }
  }
 },
 "nbformat": 4,
 "nbformat_minor": 2
}
