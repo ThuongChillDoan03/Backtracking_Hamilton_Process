{
 "cells": [
  {
   "cell_type": "code",
   "execution_count": 1,
   "metadata": {},
   "outputs": [],
   "source": [
    "import numpy as np\n",
    "import math\n",
    "\n",
    "###_____________________PYTHON_FUNCTION_________________________###\n",
    "\n",
    "n = int(input(\"Nhập số đỉnh của đồ thị:\"))\n",
    "def adjacency_matrix(n):\n",
    "    adjacency_matrix = []\n",
    "    for row in range(n):\n",
    "        adjacency_matrix.append([])\n",
    "        for column in range(n):\n",
    "            place = int(input(\"Phần tử thứ djacency_matrix[%2d][%2d]:\" % (row+1, column+1)))\n",
    "            adjacency_matrix[row].append(place)\n",
    "    \n",
    "    # 0 là ko có đường đi và 1 là có đường đi, ex: a12 = 1 tức là có cạnh nối đỉnh 1 và đỉnh 2 :)))\n",
    "    return np.array(adjacency_matrix)\n",
    "def position_counter(n):        # Mặc định đỉnh đầu tiên của chu trình là đỉnh 1.\n",
    "    arr_position_counter = np.full(n+1,0)\n",
    "    arr_position_counter[0] = 1\n",
    "    arr_position_counter[n] = 1\n",
    "    return arr_position_counter\n",
    "\n",
    "def arr_check(n):\n",
    "    arr_check_place = np.full(n,0)\n",
    "    return arr_check_place\n",
    "\n",
    "###____________________________________________________________________________###\n",
    "\n",
    "count = 0\n",
    "arr_check_place = arr_check(n)\n",
    "arr_position_counter = position_counter(n)\n",
    "adjacency_matrix = adjacency_matrix(n)\n",
    "def Backtracking_hamilton_process(adjacency_matrix, arr_position_counter,arr_check_place, n, count):\n",
    "    for idx_ in range(n):\n",
    "        if (adjacency_matrix[arr_position_counter[count]][idx_] == 1) and (arr_check_place[idx_] == 0):\n",
    "            arr_position_counter[count+1] = idx_ + 1 \n",
    "            arr_check_place[idx_] = 1 \n",
    "            if count < n-1:\n",
    "                print(arr_position_counter)\n",
    "                print(arr_check_place)\n",
    "                return Backtracking_hamilton_process(adjacency_matrix, arr_position_counter,arr_check_place, n, count+1)\n",
    "            else:\n",
    "                if adjacency_matrix[arr_position_counter[count]-1][0] == arr_position_counter[0]:\n",
    "                    print(\"Chu trình Hamilton:\", arr_position_counter)\n",
    "            arr_check_place[idx_]= 0\n",
    "            \n",
    "print(Backtracking_hamilton_process(adjacency_matrix, arr_position_counter,arr_check_place, n, count))"
   ]
  },
  {
   "cell_type": "code",
   "execution_count": 6,
   "metadata": {},
   "outputs": [
    {
     "name": "stdout",
     "output_type": "stream",
     "text": [
      "[[0 1 1]\n",
      " [1 0 1]\n",
      " [1 1 0]]\n",
      "Chu trình Hamilton:  1 => 2 => 3 => 1\n",
      "Chu trình Hamilton:  1 => 3 => 2 => 1\n",
      "Chương trình đã thực hiện xong!!!!Ahihiii!!!\n"
     ]
    }
   ],
   "source": [
    "import numpy as np\n",
    "import math\n",
    "\n",
    "###_____________________PYTHON_FUNCTION_________________________###\n",
    "\n",
    "n = int(input(\"Nhập số đỉnh của đồ thị:\"))\n",
    "def adjacency_matrix(n):\n",
    "    adjacency_matrix = []\n",
    "    for row in range(n):\n",
    "        adjacency_matrix.append([])\n",
    "        for column in range(n):\n",
    "            place = int(input(\"Phần tử thứ djacency_matrix[%2d][%2d]:\" % (row+1, column+1)))\n",
    "            adjacency_matrix[row].append(place)\n",
    "\n",
    "    # 0 là ko có đường đi và 1 là có đường đi, ex: a12 = 1 tức là có cạnh nối đỉnh 1 và đỉnh 2 :)))\n",
    "    return np.array(adjacency_matrix)\n",
    "def position_counter(n):        # Mặc định đỉnh đầu tiên của chu trình là đỉnh 1.\n",
    "    arr_position_counter = np.full(n+1,0)\n",
    "    arr_position_counter[0] = 1\n",
    "    return arr_position_counter\n",
    "\n",
    "def print_Hamilton(arr_position_counter):\n",
    "    print(\"Chu trình Hamilton: \", end=' ')\n",
    "    for i_ in range(len(arr_position_counter)):\n",
    "        if i_ < len(arr_position_counter) - 1:\n",
    "            print(arr_position_counter[i_],end=' => ')\n",
    "        if i_ >= len(arr_position_counter) - 1:\n",
    "            print(arr_position_counter[i_])\n",
    "\n",
    "###____________________________________________________________________________###\n",
    "\n",
    "count = 0\n",
    "arr_position_counter = position_counter(n)\n",
    "adjacency_matrix = adjacency_matrix(n)\n",
    "def Backtracking_hamilton_process(adjacency_matrix, arr_position_counter, n, count):\n",
    "    for idx_ in range(n):\n",
    "        if ((count<n-1) and (adjacency_matrix[arr_position_counter[count]-1][idx_] == 1) and (((idx_+1) in arr_position_counter)==False )) or ((count>=n-1) and (adjacency_matrix[arr_position_counter[count]-1][idx_] == 1)):\n",
    "            arr_position_counter[count+1] = idx_ + 1 \n",
    "            if count < n-1:\n",
    "                Backtracking_hamilton_process(adjacency_matrix, arr_position_counter, n, count+1)\n",
    "            else:\n",
    "                if arr_position_counter[count+1] == arr_position_counter[0]:\n",
    "                    print_Hamilton(arr_position_counter)\n",
    "            arr_position_counter[count+1] = 0\n",
    "    return 'Chương trình đã thực hiện xong!!!!Ahihiii!!!'\n",
    "print(adjacency_matrix)\n",
    "print(Backtracking_hamilton_process(adjacency_matrix, arr_position_counter, n, count))"
   ]
  }
 ],
 "metadata": {
  "kernelspec": {
   "display_name": "Python 3",
   "language": "python",
   "name": "python3"
  },
  "language_info": {
   "codemirror_mode": {
    "name": "ipython",
    "version": 3
   },
   "file_extension": ".py",
   "mimetype": "text/x-python",
   "name": "python",
   "nbconvert_exporter": "python",
   "pygments_lexer": "ipython3",
   "version": "3.10.6"
  },
  "orig_nbformat": 4,
  "vscode": {
   "interpreter": {
    "hash": "d3e10ef16274dd72e574b8fa73b58450b957d8421a2901baded3cca26fcf5dda"
   }
  }
 },
 "nbformat": 4,
 "nbformat_minor": 2
}
